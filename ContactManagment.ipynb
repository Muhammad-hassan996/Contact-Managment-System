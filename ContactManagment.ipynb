{
 "cells": [
  {
   "cell_type": "code",
   "execution_count": 35,
   "id": "0dd57512-01c2-442a-bf9e-a5db15568309",
   "metadata": {},
   "outputs": [
    {
     "name": "stdout",
     "output_type": "stream",
     "text": [
      "\n",
      "Contact Management System\n",
      "1. Add Contact\n",
      "2. Get Contact\n",
      "3. Update Contact\n",
      "4. Delete Contact\n",
      "5. view list\n",
      "6. exit\n"
     ]
    },
    {
     "name": "stdin",
     "output_type": "stream",
     "text": [
      "Enter your choice (1-6):  1\n",
      "Enter name:  hassan\n",
      "Enter phone number:  2772722\n",
      "Enter email address:  222\n"
     ]
    },
    {
     "name": "stdout",
     "output_type": "stream",
     "text": [
      "Contact hassan added successfully.\n",
      "\n",
      "Contact Management System\n",
      "1. Add Contact\n",
      "2. Get Contact\n",
      "3. Update Contact\n",
      "4. Delete Contact\n",
      "5. view list\n",
      "6. exit\n"
     ]
    },
    {
     "name": "stdin",
     "output_type": "stream",
     "text": [
      "Enter your choice (1-6):  2\n",
      "Enter name:  hassan\n"
     ]
    },
    {
     "name": "stdout",
     "output_type": "stream",
     "text": [
      "{'phone': '2772722', 'email': '222'}\n",
      "\n",
      "Contact Management System\n",
      "1. Add Contact\n",
      "2. Get Contact\n",
      "3. Update Contact\n",
      "4. Delete Contact\n",
      "5. view list\n",
      "6. exit\n"
     ]
    },
    {
     "name": "stdin",
     "output_type": "stream",
     "text": [
      "Enter your choice (1-6):  3\n",
      "Enter name:  hassan\n",
      "Enter new phone number:  222\n",
      "Enter new email address:  222\n"
     ]
    },
    {
     "name": "stdout",
     "output_type": "stream",
     "text": [
      "Contact hassan updated successfully.\n",
      "\n",
      "Contact Management System\n",
      "1. Add Contact\n",
      "2. Get Contact\n",
      "3. Update Contact\n",
      "4. Delete Contact\n",
      "5. view list\n",
      "6. exit\n"
     ]
    },
    {
     "name": "stdin",
     "output_type": "stream",
     "text": [
      "Enter your choice (1-6):  4\n",
      "Enter name:  hassan\n"
     ]
    },
    {
     "name": "stdout",
     "output_type": "stream",
     "text": [
      "Contact hassan deleted successfully.\n",
      "\n",
      "Contact Management System\n",
      "1. Add Contact\n",
      "2. Get Contact\n",
      "3. Update Contact\n",
      "4. Delete Contact\n",
      "5. view list\n",
      "6. exit\n"
     ]
    },
    {
     "name": "stdin",
     "output_type": "stream",
     "text": [
      "Enter your choice (1-6):  5\n"
     ]
    },
    {
     "name": "stdout",
     "output_type": "stream",
     "text": [
      "Exit\n"
     ]
    }
   ],
   "source": [
    "#Contact Managment System \n",
    "def add(name, phone, email):\n",
    "    if name in contacts:\n",
    "        return \"This name is already exist\"\n",
    "    contacts[name] = {\n",
    "        \"phone\": phone,\n",
    "        \"email\": email\n",
    "    }\n",
    "    return f\"Contact {name} added successfully.\"\n",
    "\n",
    "\n",
    "def get(name):\n",
    "    if name in contacts:\n",
    "        return contacts[name]\n",
    "    return f\"Contact with name {name} does not exist.\"\n",
    "\n",
    "\n",
    "def update(name, phone, email):\n",
    "    if name in contacts:\n",
    "        contacts[name] = {\n",
    "            \"phone\": phone,\n",
    "            \"email\": email\n",
    "        }\n",
    "        return f\"Contact {name} updated successfully.\"\n",
    "    return f\"Contact with name {name} does not exist.\"\n",
    "\n",
    "\n",
    "def delete(name):\n",
    "    if name in contacts:\n",
    "        del contacts[name]\n",
    "        return f\"Contact {name} deleted successfully.\"\n",
    "    return f\"Contact with name {name} does not exist.\"\n",
    "\n",
    "\n",
    "\n",
    "contacts = {}\n",
    "\n",
    "\n",
    "def menu():\n",
    "    \n",
    "        print(\"\\nContact Management System\")\n",
    "        print(\"1. Add Contact\")\n",
    "        print(\"2. Get Contact\")\n",
    "        print(\"3. Update Contact\")\n",
    "        print(\"4. Delete Contact\")\n",
    "        print(\"5. view list\")\n",
    "        print(\"6. exit\")\n",
    "\n",
    "        choice = input(\"Enter your choice (1-6): \")\n",
    "\n",
    "        if choice == '1':\n",
    "            name = input(\"Enter name: \")\n",
    "            phone = input(\"Enter phone number: \")\n",
    "            email = input(\"Enter email address: \")\n",
    "            print(add_contact(name, phone, email))\n",
    "            return menu()\n",
    "        \n",
    "        elif choice == '2':\n",
    "            name = input(\"Enter name: \")\n",
    "            print(get_contact(name))\n",
    "            return menu()\n",
    "        \n",
    "        elif choice == '3':\n",
    "            name = input(\"Enter name: \")\n",
    "            phone = input(\"Enter new phone number: \")\n",
    "            email = input(\"Enter new email address: \")\n",
    "            print(update_contact(name, phone, email))\n",
    "            return menu()\n",
    "        \n",
    "        elif choice == '4':\n",
    "            name = input(\"Enter name: \")\n",
    "            print(delete_contact(name))\n",
    "            return menu()\n",
    "        elif choice == '5':\n",
    "            print(\"Exit\")\n",
    "            return\n",
    "\n",
    "        else:\n",
    "            print(\"Invalid choice. Please try again.\")\n",
    "            return menu()\n",
    "\n",
    "menu()\n"
   ]
  },
  {
   "cell_type": "code",
   "execution_count": null,
   "id": "ea8128d3-fc62-4ccc-970e-ffc89b55d97e",
   "metadata": {},
   "outputs": [
    {
     "name": "stdout",
     "output_type": "stream",
     "text": [
      "\n",
      "Contact Management System\n",
      "1. Add Contact\n",
      "2. Get Contact\n",
      "3. Update Contact\n",
      "4. Delete Contact\n",
      "5. View Contacts\n",
      "6. Exit\n"
     ]
    },
    {
     "name": "stdin",
     "output_type": "stream",
     "text": [
      "Enter your choice (1-6):  1\n",
      "Enter name:  hassan\n",
      "Enter phone number:  03078761774\n",
      "Enter email address:  ranahsn@gmail.com\n"
     ]
    },
    {
     "name": "stdout",
     "output_type": "stream",
     "text": [
      "Contact hassan added successfully.\n",
      "\n",
      "Contact Management System\n",
      "1. Add Contact\n",
      "2. Get Contact\n",
      "3. Update Contact\n",
      "4. Delete Contact\n",
      "5. View Contacts\n",
      "6. Exit\n"
     ]
    },
    {
     "name": "stdin",
     "output_type": "stream",
     "text": [
      "Enter your choice (1-6):  2\n",
      "Enter name:  hassan\n"
     ]
    },
    {
     "name": "stdout",
     "output_type": "stream",
     "text": [
      "{'phone': '03078761774', 'email': 'ranahsn@gmail.com'}\n",
      "\n",
      "Contact Management System\n",
      "1. Add Contact\n",
      "2. Get Contact\n",
      "3. Update Contact\n",
      "4. Delete Contact\n",
      "5. View Contacts\n",
      "6. Exit\n"
     ]
    },
    {
     "name": "stdin",
     "output_type": "stream",
     "text": [
      "Enter your choice (1-6):  5\n"
     ]
    },
    {
     "name": "stdout",
     "output_type": "stream",
     "text": [
      "Name: hassan, Phone: 03078761774, Email: ranahsn@gmail.com\n",
      "\n",
      "Contact Management System\n",
      "1. Add Contact\n",
      "2. Get Contact\n",
      "3. Update Contact\n",
      "4. Delete Contact\n",
      "5. View Contacts\n",
      "6. Exit\n"
     ]
    },
    {
     "name": "stdin",
     "output_type": "stream",
     "text": [
      "Enter your choice (1-6):  1\n",
      "Enter name:  ali\n",
      "Enter phone number:  2222222\n",
      "Enter email address:  qqas2\n"
     ]
    },
    {
     "name": "stdout",
     "output_type": "stream",
     "text": [
      "Contact ali added successfully.\n",
      "\n",
      "Contact Management System\n",
      "1. Add Contact\n",
      "2. Get Contact\n",
      "3. Update Contact\n",
      "4. Delete Contact\n",
      "5. View Contacts\n",
      "6. Exit\n"
     ]
    },
    {
     "name": "stdin",
     "output_type": "stream",
     "text": [
      "Enter your choice (1-6):  5\n"
     ]
    },
    {
     "name": "stdout",
     "output_type": "stream",
     "text": [
      "Name: hassan, Phone: 03078761774, Email: ranahsn@gmail.com\n",
      "Name: ali, Phone: 2222222, Email: qqas2\n",
      "\n",
      "Contact Management System\n",
      "1. Add Contact\n",
      "2. Get Contact\n",
      "3. Update Contact\n",
      "4. Delete Contact\n",
      "5. View Contacts\n",
      "6. Exit\n"
     ]
    }
   ],
   "source": [
    "# Contact Management System\n",
    "\n",
    "def add_contact(name, phone, email):\n",
    "    if name in contacts:\n",
    "        return \"This name already exists\"\n",
    "    contacts[name] = {\n",
    "        \"phone\": phone,\n",
    "        \"email\": email\n",
    "    }\n",
    "    return f\"Contact {name} added successfully.\"\n",
    "\n",
    "def get_contact(name):\n",
    "    if name in contacts:\n",
    "        return contacts[name]\n",
    "    return f\"Contact with name {name} does not exist.\"\n",
    "\n",
    "def update_contact(name, phone, email):\n",
    "    if name in contacts:\n",
    "        contacts[name] = {\n",
    "            \"phone\": phone,\n",
    "            \"email\": email\n",
    "        }\n",
    "        return f\"Contact {name} updated successfully.\"\n",
    "    return f\"Contact with name {name} does not exist.\"\n",
    "\n",
    "def delete_contact(name):\n",
    "    if name in contacts:\n",
    "        del contacts[name]\n",
    "        return f\"Contact {name} deleted successfully.\"\n",
    "    return f\"Contact with name {name} does not exist.\"\n",
    "\n",
    "def view_contacts():\n",
    "    if not contacts:\n",
    "        return \"No contacts available.\"\n",
    "    contact_list = []\n",
    "    for name, details in contacts.items():\n",
    "        contact_list.append(f\"Name: {name}, Phone: {details['phone']}, Email: {details['email']}\")\n",
    "    return \"\\n\".join(contact_list)\n",
    "\n",
    "contacts = {}\n",
    "\n",
    "def menu():\n",
    "    while True:\n",
    "        print(\"\\nContact Management System\")\n",
    "        print(\"1. Add Contact\")\n",
    "        print(\"2. Get Contact\")\n",
    "        print(\"3. Update Contact\")\n",
    "        print(\"4. Delete Contact\")\n",
    "        print(\"5. View Contacts\")\n",
    "        print(\"6. Exit\")\n",
    "\n",
    "        choice = input(\"Enter your choice (1-6): \")\n",
    "\n",
    "        if choice == '1':\n",
    "            name = input(\"Enter name: \")\n",
    "            phone = input(\"Enter phone number: \")\n",
    "            email = input(\"Enter email address: \")\n",
    "            print(add_contact(name, phone, email))\n",
    "        \n",
    "        elif choice == '2':\n",
    "            name = input(\"Enter name: \")\n",
    "            print(get_contact(name))\n",
    "        \n",
    "        elif choice == '3':\n",
    "            name = input(\"Enter name: \")\n",
    "            phone = input(\"Enter new phone number: \")\n",
    "            email = input(\"Enter new email address: \")\n",
    "            print(update_contact(name, phone, email))\n",
    "        \n",
    "        elif choice == '4':\n",
    "            name = input(\"Enter name: \")\n",
    "            print(delete_contact(name))\n",
    "        \n",
    "        elif choice == '5':\n",
    "            print(view_contacts())\n",
    "        \n",
    "        elif choice == '6':\n",
    "            print(\"Exit\")\n",
    "            break\n",
    "\n",
    "        else:\n",
    "            print(\"Invalid choice. Please try again.\")\n",
    "\n",
    "menu()\n"
   ]
  },
  {
   "cell_type": "code",
   "execution_count": null,
   "id": "27f426ac-8659-4d14-baf7-1f71c3c7076a",
   "metadata": {},
   "outputs": [],
   "source": []
  },
  {
   "cell_type": "code",
   "execution_count": null,
   "id": "8c282b0c-a6af-4189-9ee2-781c21af2a4b",
   "metadata": {},
   "outputs": [],
   "source": []
  }
 ],
 "metadata": {
  "kernelspec": {
   "display_name": "Python 3 (ipykernel)",
   "language": "python",
   "name": "python3"
  },
  "language_info": {
   "codemirror_mode": {
    "name": "ipython",
    "version": 3
   },
   "file_extension": ".py",
   "mimetype": "text/x-python",
   "name": "python",
   "nbconvert_exporter": "python",
   "pygments_lexer": "ipython3",
   "version": "3.12.3"
  }
 },
 "nbformat": 4,
 "nbformat_minor": 5
}
